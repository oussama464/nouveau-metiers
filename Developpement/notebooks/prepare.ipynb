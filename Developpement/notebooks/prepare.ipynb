{
 "cells": [
  {
   "cell_type": "code",
   "execution_count": null,
   "metadata": {
    "tags": [
     "imports"
    ]
   },
   "outputs": [],
   "source": [
    "########################################\n",
    "### imports   ##########################\n",
    "########################################\n",
    "from matplotlib.dates import DateFormatter, DayLocator, YearLocator\n",
    "import matplotlib.lines as ml\n",
    "import pandas as pd\n",
    "import numpy as np\n",
    "import matplotlib.pyplot as plt\n",
    "import glob\n",
    "from tsfresh.feature_extraction import extract_features,ComprehensiveFCParameters"
   ]
  },
  {
   "cell_type": "code",
   "execution_count": null,
   "metadata": {},
   "outputs": [],
   "source": [
    "########################################\n",
    "### list input files ###################\n",
    "########################################\n",
    "path = \"../data\"\n",
    "data_files = glob.glob(path + \"/*.xls*\")"
   ]
  },
  {
   "cell_type": "code",
   "execution_count": null,
   "metadata": {},
   "outputs": [],
   "source": [
    "########################################\n",
    "### read data from source ##############\n",
    "########################################\n",
    "df_list = (pd.read_excel(file, parse_dates=True,sheet_name=1,na_values=[\"*\",\"-\"]) for file in data_files)\n",
    "dfSource=  pd.concat(df_list, ignore_index=True)"
   ]
  },
  {
   "cell_type": "code",
   "execution_count": null,
   "metadata": {},
   "outputs": [],
   "source": [
    "df=dfSource"
   ]
  },
  {
   "cell_type": "code",
   "execution_count": null,
   "metadata": {},
   "outputs": [],
   "source": [
    "########################################\n",
    "### add/rename columns    ##############\n",
    "########################################\n",
    "df=df.filter(items=[\"annee\", \"Code métier BMO\",\"met\"])\n",
    "#df[\"annee\"] = pd.to_datetime(df[\"annee\"],  format='%Y')\n",
    "df=df.rename(columns = {'met':'rawpop'})\n",
    "df=df.rename(columns = {'Code métier BMO':'job_code'})\n",
    "df=df.rename(columns = {'annee':'date'})\n",
    "df=df.assign(logpop=lambda x: np.log(x.rawpop))\n"
   ]
  },
  {
   "cell_type": "code",
   "execution_count": null,
   "metadata": {},
   "outputs": [],
   "source": [
    "########################################\n",
    "### group data            ##############\n",
    "########################################\n",
    "groupedDf=df.groupby(by=[\"date\",\"job_code\"]).sum().sort_index()"
   ]
  },
  {
   "cell_type": "code",
   "execution_count": null,
   "metadata": {},
   "outputs": [],
   "source": [
    "availables_years=groupedDf.index.get_level_values(0).drop_duplicates().tolist()"
   ]
  },
  {
   "cell_type": "code",
   "execution_count": null,
   "metadata": {},
   "outputs": [],
   "source": [
    "########################################\n",
    "### previous rawpop & growth   #########\n",
    "########################################\n",
    "\n",
    "def getPrevious(date,job_code):\n",
    "    previous_date=date-1\n",
    "    if(previous_date in availables_years and (previous_date,job_code) in  groupedDf.index):\n",
    "        return groupedDf.loc[(previous_date,job_code),'rawpop']\n",
    "    elif(previous_date not in  availables_years):\n",
    "        return groupedDf.loc[(date,job_code),'rawpop']\n",
    "    else:\n",
    "        return 0\n",
    "    \n",
    "for i in groupedDf.index:\n",
    "    index=groupedDf.loc[i]\n",
    "    groupedDf.loc[i, 'prev_rawpop'] = getPrevious(index.name[0],index.name[1])\n",
    "\n",
    "groupedDf=groupedDf.assign(growth=lambda x: x['rawpop']-x['prev_rawpop'])"
   ]
  },
  {
   "cell_type": "code",
   "execution_count": null,
   "metadata": {},
   "outputs": [],
   "source": [
    "########################################\n",
    "### is_emerging_job            #########\n",
    "########################################\n",
    "def is_emerging_job(date,job_code): \n",
    "    prev_rawpop=groupedDf.loc[(date,job_code),'prev_rawpop']\n",
    "    growth=groupedDf.loc[(date,job_code),'growth']\n",
    "    return prev_rawpop<=np.quantile(groupedDf.loc[date,'prev_rawpop'],.1) and  growth>= np.quantile(groupedDf.loc[date,'growth'],.1)\n",
    "    \n",
    "for i in groupedDf.index:\n",
    "    index=groupedDf.loc[i]\n",
    "    groupedDf.loc[i, 'is_emerging_job'] = 1 if (is_emerging_job(index.name[0],index.name[1])) else 0"
   ]
  },
  {
   "cell_type": "code",
   "execution_count": null,
   "metadata": {
    "tags": [
     "Figure"
    ]
   },
   "outputs": [],
   "source": [
    "########################################\n",
    "### Time serie                 #########\n",
    "########################################\n",
    "fig, ax = plt.subplots(layout='constrained')\n",
    "fig.get_layout_engine().set(hspace=0.15)\n",
    "ax.set_title(\"nb de projet de recrutement par an\")\n",
    "\n",
    "lns=[]\n",
    "flatDf=groupedDf.reset_index()\n",
    "jobs=flatDf['job_code'].drop_duplicates()\n",
    "for job in jobs:\n",
    "  ddf=flatDf.query('job_code==@job')\n",
    "  ln = ax.plot(ddf['date'], ddf['rawpop'], label=job)\n",
    "  lns+=ln\n",
    "\n",
    "labels=[l.get_label() for l in lns]\n",
    "#ax.legend(lns, labels)\n",
    "ax.xaxis.set_major_locator(YearLocator())\n",
    "ax.xaxis.set_major_formatter(DateFormatter('%Y'))"
   ]
  },
  {
   "cell_type": "code",
   "execution_count": null,
   "metadata": {},
   "outputs": [],
   "source": [
    "########################################\n",
    "### Add id column  = row number#########\n",
    "########################################\n",
    "df_with_id=groupedDf.reset_index()\n",
    "df_with_id=df_with_id.assign(id=lambda x: range(1, 1+len(x)))"
   ]
  },
  {
   "cell_type": "code",
   "execution_count": null,
   "metadata": {},
   "outputs": [],
   "source": [
    "########################################\n",
    "### Extract features           #########\n",
    "########################################\n",
    "settings = ComprehensiveFCParameters()\n",
    "featuredDF=extract_features(df_with_id,default_fc_parameters=settings, column_id='id')"
   ]
  },
  {
   "cell_type": "code",
   "execution_count": null,
   "metadata": {},
   "outputs": [],
   "source": [
    "########################################\n",
    "### Export dataset             #########\n",
    "########################################\n",
    "featuredDF.to_csv(\"../export/featured_dataset.csv\",sep=\";\")"
   ]
  }
 ],
 "metadata": {
  "kernelspec": {
   "display_name": "Python 3",
   "language": "python",
   "name": "python3"
  },
  "language_info": {
   "codemirror_mode": {
    "name": "ipython",
    "version": 3
   },
   "file_extension": ".py",
   "mimetype": "text/x-python",
   "name": "python",
   "nbconvert_exporter": "python",
   "pygments_lexer": "ipython3",
   "version": "3.9.13"
  }
 },
 "nbformat": 4,
 "nbformat_minor": 2
}
